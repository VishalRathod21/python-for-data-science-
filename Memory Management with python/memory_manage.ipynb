{
 "cells": [
  {
   "cell_type": "code",
   "id": "initial_id",
   "metadata": {
    "collapsed": true,
    "ExecuteTime": {
     "end_time": "2024-12-27T13:47:46.918295Z",
     "start_time": "2024-12-27T13:47:46.913553Z"
    }
   },
   "source": [
    "import sys\n",
    "\n",
    "a = []\n",
    "## 2 (one reference from 'a' and one from getrefcount())\n",
    "\n",
    "print(sys.getrefcount(a))"
   ],
   "outputs": [
    {
     "name": "stdout",
     "output_type": "stream",
     "text": [
      "2\n"
     ]
    }
   ],
   "execution_count": 8
  },
  {
   "metadata": {
    "ExecuteTime": {
     "end_time": "2024-12-27T13:47:54.679749Z",
     "start_time": "2024-12-27T13:47:54.674873Z"
    }
   },
   "cell_type": "code",
   "source": [
    "b = a\n",
    "print(sys.getrefcount(b))"
   ],
   "id": "2b1e7decab8fbd9d",
   "outputs": [
    {
     "name": "stdout",
     "output_type": "stream",
     "text": [
      "3\n"
     ]
    }
   ],
   "execution_count": 9
  },
  {
   "metadata": {
    "ExecuteTime": {
     "end_time": "2024-12-27T13:48:07.607401Z",
     "start_time": "2024-12-27T13:48:07.602914Z"
    }
   },
   "cell_type": "code",
   "source": [
    "del b\n",
    "print(sys.getrefcount(a))"
   ],
   "id": "198f98e421598ad7",
   "outputs": [
    {
     "name": "stdout",
     "output_type": "stream",
     "text": [
      "2\n"
     ]
    }
   ],
   "execution_count": 10
  },
  {
   "metadata": {},
   "cell_type": "markdown",
   "source": "#### Garbage Collection",
   "id": "6444d6bc644d72b8"
  },
  {
   "metadata": {
    "ExecuteTime": {
     "end_time": "2024-12-27T13:51:34.735224Z",
     "start_time": "2024-12-27T13:51:34.721620Z"
    }
   },
   "cell_type": "code",
   "source": [
    "import gc\n",
    "## enable garbage collection\n",
    "gc.enable()"
   ],
   "id": "d73cae0334c6fe8b",
   "outputs": [],
   "execution_count": 11
  },
  {
   "metadata": {
    "ExecuteTime": {
     "end_time": "2024-12-27T13:51:39.647542Z",
     "start_time": "2024-12-27T13:51:39.620972Z"
    }
   },
   "cell_type": "code",
   "source": "gc.disable()",
   "id": "d698f3e9d8a6da0c",
   "outputs": [],
   "execution_count": 12
  },
  {
   "metadata": {
    "ExecuteTime": {
     "end_time": "2024-12-27T13:51:45.723737Z",
     "start_time": "2024-12-27T13:51:45.499583Z"
    }
   },
   "cell_type": "code",
   "source": "gc.collect()",
   "id": "f006a0924b05a05b",
   "outputs": [
    {
     "data": {
      "text/plain": [
       "50"
      ]
     },
     "execution_count": 13,
     "metadata": {},
     "output_type": "execute_result"
    }
   ],
   "execution_count": 13
  },
  {
   "metadata": {
    "ExecuteTime": {
     "end_time": "2024-12-27T13:52:49.128719Z",
     "start_time": "2024-12-27T13:52:49.120666Z"
    }
   },
   "cell_type": "code",
   "source": [
    "### get garbage collection stats\n",
    "print(gc.get_stats())"
   ],
   "id": "38700c3100c445df",
   "outputs": [
    {
     "name": "stdout",
     "output_type": "stream",
     "text": [
      "[{'collections': 66, 'collected': 1745, 'uncollectable': 0}, {'collections': 6, 'collected': 129, 'uncollectable': 0}, {'collections': 1, 'collected': 50, 'uncollectable': 0}]\n"
     ]
    }
   ],
   "execution_count": 14
  },
  {
   "metadata": {
    "ExecuteTime": {
     "end_time": "2024-12-27T13:53:43.547860Z",
     "start_time": "2024-12-27T13:53:43.540605Z"
    }
   },
   "cell_type": "code",
   "source": [
    "### get unreachable objects\n",
    "print(gc.garbage)"
   ],
   "id": "129d3d6614a285ad",
   "outputs": [
    {
     "name": "stdout",
     "output_type": "stream",
     "text": [
      "[]\n"
     ]
    }
   ],
   "execution_count": 15
  },
  {
   "metadata": {},
   "cell_type": "markdown",
   "source": "### Memory Management Best Practices",
   "id": "e26578f4282e01ac"
  },
  {
   "metadata": {
    "ExecuteTime": {
     "end_time": "2024-12-27T14:03:50.210387Z",
     "start_time": "2024-12-27T14:03:50.008891Z"
    }
   },
   "cell_type": "code",
   "source": [
    "import gc\n",
    "\n",
    "class MyObject:\n",
    "    def __init__(self, name):\n",
    "        self.name = name\n",
    "        print(f\"Object {self.name} created\")\n",
    "\n",
    "    def __del__(self):\n",
    "        print(f\"Object {self.name} deleted\")\n",
    "\n",
    "\n",
    "## created circular reference\n",
    "obj1 = MyObject(\"obj1\")\n",
    "obj2 = MyObject(\"obj2\")\n",
    "obj2.ref = obj2\n",
    "obj1.ref = obj1\n",
    "\n",
    "del obj1, obj2\n",
    "\n",
    "## Manually trigger the garbage collection\n",
    "gc.collect()"
   ],
   "id": "af3cc4a8d404b50b",
   "outputs": [
    {
     "name": "stdout",
     "output_type": "stream",
     "text": [
      "Object obj1 created\n",
      "Object obj2 created\n",
      "Object obj1 deleted\n",
      "Object obj2 deleted\n",
      "Object obj1 deleted\n",
      "Object obj2 deleted\n",
      "Object obj1 deleted\n",
      "Object obj2 deleted\n"
     ]
    },
    {
     "data": {
      "text/plain": [
       "24"
      ]
     },
     "execution_count": 20,
     "metadata": {},
     "output_type": "execute_result"
    }
   ],
   "execution_count": 20
  },
  {
   "metadata": {
    "ExecuteTime": {
     "end_time": "2024-12-27T14:06:32.323747Z",
     "start_time": "2024-12-27T14:06:32.313573Z"
    }
   },
   "cell_type": "code",
   "source": [
    "## Generators For Memory Efficiency\n",
    "#Generators allow you to produce items one at a time, using memory efficiently by only keeping one item in memory at a time.\n",
    "\n",
    "def generate_numbers(n):\n",
    "    for i in range(n):\n",
    "        yield i\n",
    "\n",
    "## using the generator\n",
    "for num in generate_numbers(100000):\n",
    "    print(num)\n",
    "    if num>10:\n",
    "        break"
   ],
   "id": "584f497dfdc87575",
   "outputs": [
    {
     "name": "stdout",
     "output_type": "stream",
     "text": [
      "0\n",
      "1\n",
      "2\n",
      "3\n",
      "4\n",
      "5\n",
      "6\n",
      "7\n",
      "8\n",
      "9\n",
      "10\n",
      "11\n"
     ]
    }
   ],
   "execution_count": 21
  },
  {
   "metadata": {
    "ExecuteTime": {
     "end_time": "2024-12-27T14:06:48.176924Z",
     "start_time": "2024-12-27T14:06:48.134273Z"
    }
   },
   "cell_type": "code",
   "source": [
    "## Profiling Memory USage with tracemalloc\n",
    "import tracemalloc\n",
    "\n",
    "def create_list():\n",
    "    return [i for i in range(10000)]\n",
    "\n",
    "def main():\n",
    "    tracemalloc.start()\n",
    "\n",
    "    create_list()\n",
    "\n",
    "    snapshot = tracemalloc.take_snapshot()\n",
    "    top_stats = snapshot.statistics('lineno')\n",
    "\n",
    "    print(\"[ Top 10 ]\")\n",
    "    for stat in top_stats[::]:\n",
    "        print(stat)"
   ],
   "id": "1a14e95a303f4e42",
   "outputs": [],
   "execution_count": 22
  },
  {
   "metadata": {
    "ExecuteTime": {
     "end_time": "2024-12-27T14:06:57.621550Z",
     "start_time": "2024-12-27T14:06:57.582398Z"
    }
   },
   "cell_type": "code",
   "source": "main()",
   "id": "6cb464e1d37089e7",
   "outputs": [
    {
     "name": "stdout",
     "output_type": "stream",
     "text": [
      "[ Top 10 ]\n"
     ]
    }
   ],
   "execution_count": 23
  },
  {
   "metadata": {},
   "cell_type": "code",
   "outputs": [],
   "execution_count": null,
   "source": "",
   "id": "547dbfb8f6aa54c0"
  }
 ],
 "metadata": {
  "kernelspec": {
   "display_name": "Python 3",
   "language": "python",
   "name": "python3"
  },
  "language_info": {
   "codemirror_mode": {
    "name": "ipython",
    "version": 2
   },
   "file_extension": ".py",
   "mimetype": "text/x-python",
   "name": "python",
   "nbconvert_exporter": "python",
   "pygments_lexer": "ipython2",
   "version": "2.7.6"
  }
 },
 "nbformat": 4,
 "nbformat_minor": 5
}
