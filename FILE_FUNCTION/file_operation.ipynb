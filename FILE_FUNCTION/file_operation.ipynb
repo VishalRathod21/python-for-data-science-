{
 "cells": [
  {
   "cell_type": "code",
   "execution_count": null,
   "metadata": {},
   "outputs": [
    {
     "name": "stdout",
     "output_type": "stream",
     "text": [
      "Hello How are you ?\n",
      "I am good \n",
      "Vishal Rathod is my name \n",
      "welcome to the course\n",
      "\n"
     ]
    }
   ],
   "source": [
    "## File Operation\n",
    "\n",
    "with open('example.txt','r') as file:\n",
    "    content = file.read()\n",
    "    print(content)\n"
   ]
  },
  {
   "cell_type": "code",
   "execution_count": null,
   "metadata": {},
   "outputs": [
    {
     "name": "stdout",
     "output_type": "stream",
     "text": [
      "Hello How are you ?\n",
      "I am good\n",
      "Vishal Rathod is my name\n",
      "welcome to the course\n"
     ]
    }
   ],
   "source": [
    "# Read file line by line\n",
    "with open('example.txt','r') as file:\n",
    "    for line in file:\n",
    "        print(line.strip()) # strip() removes the newline character\n"
   ]
  },
  {
   "cell_type": "code",
   "execution_count": null,
   "metadata": {},
   "outputs": [],
   "source": [
    "## writing a file(overwriting)\n",
    "\n",
    "with open('example.txt','w') as file:\n",
    "    file.write('Hello World\\n')\n",
    "    file.write('This is a file\\n')\n",
    "    file.write('Read and Write\\n')\n"
   ]
  },
  {
   "cell_type": "code",
   "execution_count": null,
   "metadata": {},
   "outputs": [],
   "source": [
    "## write a file(without overwriting)\n",
    "with open('example.txt','a') as file:\n",
    "    file.write('Hello World\\n')\n",
    "    file.write('This is a file\\n')\n",
    "    file.write('Read and Write\\n')\n"
   ]
  },
  {
   "cell_type": "code",
   "execution_count": 10,
   "metadata": {},
   "outputs": [],
   "source": [
    "### writing a list of lines to a file\n",
    "lines = ['Hello World\\n','This is a file\\n','Read and Write\\n']\n",
    "\n",
    "with open('example.txt','a') as file:\n",
    "    file.writelines(lines)\n",
    "    "
   ]
  },
  {
   "cell_type": "code",
   "execution_count": null,
   "metadata": {},
   "outputs": [],
   "source": [
    "## Bineary files\n",
    "\n",
    "# Writing a binary file\n",
    "data = b'\\x00\\x01\\x02\\x03\\x04\\x05\\x06\\x07\\x08\\x09'\n",
    "with open('example.bin','wb') as file:\n",
    "    file.write(data)\n"
   ]
  },
  {
   "cell_type": "code",
   "execution_count": null,
   "metadata": {},
   "outputs": [
    {
     "name": "stdout",
     "output_type": "stream",
     "text": [
      "b'\\x00\\x01\\x02\\x03\\x04\\x05\\x06\\x07\\x08\\t'\n"
     ]
    }
   ],
   "source": [
    "# Reading a binary file\n",
    "with open('example.bin','rb') as file:\n",
    "    data = file.read()\n",
    "    print(data)\n"
   ]
  },
  {
   "cell_type": "code",
   "execution_count": null,
   "metadata": {},
   "outputs": [],
   "source": [
    "## reading the content from source text file and writing it to destination text file\n",
    "#copying a text file\n",
    "\n",
    "with open('example.txt','r') as source:\n",
    "    with open('destination.txt','w') as destination:\n",
    "        for line in source:\n",
    "            destination.write(line)\n"
   ]
  },
  {
   "cell_type": "code",
   "execution_count": 15,
   "metadata": {},
   "outputs": [
    {
     "name": "stdout",
     "output_type": "stream",
     "text": [
      "Hello World\n",
      "This is a file\n",
      "Read and Write\n",
      "\n"
     ]
    }
   ],
   "source": [
    "##writing and then reading a file \n",
    "\n",
    "with open('example.txt','w+') as file:\n",
    "    file.write('Hello World\\n')\n",
    "    file.write('This is a file\\n')\n",
    "    file.write('Read and Write\\n')\n",
    "    file.seek(0) # move the cursor to the beginning of the file\n",
    "    content = file.read() # read the content of the file\n",
    "    \n",
    "    print(content)\n",
    "    \n"
   ]
  },
  {
   "cell_type": "code",
   "execution_count": null,
   "metadata": {},
   "outputs": [],
   "source": []
  }
 ],
 "metadata": {
  "kernelspec": {
   "display_name": "Python 3",
   "language": "python",
   "name": "python3"
  },
  "language_info": {
   "codemirror_mode": {
    "name": "ipython",
    "version": 3
   },
   "file_extension": ".py",
   "mimetype": "text/x-python",
   "name": "python",
   "nbconvert_exporter": "python",
   "pygments_lexer": "ipython3",
   "version": "3.12.4"
  }
 },
 "nbformat": 4,
 "nbformat_minor": 2
}
