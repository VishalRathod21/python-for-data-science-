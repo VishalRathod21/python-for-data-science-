{
 "cells": [
  {
   "cell_type": "code",
   "execution_count": 1,
   "metadata": {},
   "outputs": [
    {
     "name": "stdout",
     "output_type": "stream",
     "text": [
      "<class 'dict'>\n"
     ]
    }
   ],
   "source": [
    "## creating a dictionaries \n",
    "empty_dict = {} \n",
    "print(type(empty_dict))\n"
   ]
  },
  {
   "cell_type": "code",
   "execution_count": null,
   "metadata": {},
   "outputs": [
    {
     "name": "stdout",
     "output_type": "stream",
     "text": [
      "{'name': 'Vishal', 'age': 23}\n"
     ]
    }
   ],
   "source": [
    "student = {\"name\":\"Vishal\",\"age\":23}\n",
    "print(student)\n"
   ]
  },
  {
   "cell_type": "code",
   "execution_count": null,
   "metadata": {},
   "outputs": [
    {
     "name": "stdout",
     "output_type": "stream",
     "text": [
      "{'name': '34', 'age': '34'}\n"
     ]
    }
   ],
   "source": [
    "# Error\n",
    "Student = {\"name\":\"Vishal\",\"age\":\"34\",\"name\":\"34\"}\n",
    "print(Student)\n"
   ]
  },
  {
   "cell_type": "code",
   "execution_count": null,
   "metadata": {},
   "outputs": [
    {
     "name": "stdout",
     "output_type": "stream",
     "text": [
      "{'name': 'Vishal', 'age': '34', 'grade': 'A'}\n"
     ]
    }
   ],
   "source": [
    "## accessing Dictionary Element \n",
    "Student = {\"name\":\"Vishal\",\"age\":\"34\",\"grade\":\"A\"}\n",
    "print(Student)\n"
   ]
  },
  {
   "cell_type": "code",
   "execution_count": null,
   "metadata": {},
   "outputs": [
    {
     "name": "stdout",
     "output_type": "stream",
     "text": [
      "A\n"
     ]
    }
   ],
   "source": [
    "print(Student[\"grade\"])\n"
   ]
  },
  {
   "cell_type": "code",
   "execution_count": null,
   "metadata": {},
   "outputs": [
    {
     "name": "stdout",
     "output_type": "stream",
     "text": [
      "34\n"
     ]
    }
   ],
   "source": [
    "print(Student[\"age\"])\n"
   ]
  },
  {
   "cell_type": "code",
   "execution_count": null,
   "metadata": {},
   "outputs": [
    {
     "name": "stdout",
     "output_type": "stream",
     "text": [
      "A\n",
      "None\n",
      "Not Available\n"
     ]
    }
   ],
   "source": [
    "## Accessing using get() method \n",
    "print(Student.get(\"grade\"))\n",
    "print(Student.get(\"last_name\"))\n",
    "print(Student.get(\"last_name\",\"Not Available\"))\n"
   ]
  },
  {
   "cell_type": "code",
   "execution_count": null,
   "metadata": {},
   "outputs": [
    {
     "name": "stdout",
     "output_type": "stream",
     "text": [
      "{'name': 'Vishal', 'age': '34', 'grade': 'A'}\n"
     ]
    }
   ],
   "source": [
    "## modifying DIctionary elements\n",
    "print(Student)\n"
   ]
  },
  {
   "cell_type": "code",
   "execution_count": null,
   "metadata": {},
   "outputs": [
    {
     "name": "stdout",
     "output_type": "stream",
     "text": [
      "{'name': 'Vishal', 'age': 45, 'grade': 'A'}\n",
      "{'name': 'Vishal', 'age': 45, 'grade': 'A', 'address': 'India'}\n"
     ]
    }
   ],
   "source": [
    "Student[\"age\"] = 45 ## updated the value for the key\n",
    "print(Student)\n",
    "Student[\"address\"] = \"India\" ## added the value and key\n",
    "print(Student)\n"
   ]
  },
  {
   "cell_type": "code",
   "execution_count": null,
   "metadata": {},
   "outputs": [
    {
     "name": "stdout",
     "output_type": "stream",
     "text": [
      "{'name': 'Vishal', 'age': 45, 'address': 'India'}\n"
     ]
    }
   ],
   "source": [
    "del Student[\"grade\"]\n",
    "print(Student)\n"
   ]
  },
  {
   "cell_type": "code",
   "execution_count": 11,
   "metadata": {},
   "outputs": [
    {
     "name": "stdout",
     "output_type": "stream",
     "text": [
      "dict_keys(['name', 'age', 'address'])\n",
      "dict_values(['Vishal', 45, 'India'])\n",
      "dict_items([('name', 'Vishal'), ('age', 45), ('address', 'India')])\n"
     ]
    }
   ],
   "source": [
    "## dictionary methods\n",
    "\n",
    "keys = Student.keys()\n",
    "print(keys)\n",
    "#_________________\n",
    "\n",
    "## values\n",
    "values = Student.values()\n",
    "print(values)\n",
    "\n",
    "items = Student.items()\n",
    "print(items)\n"
   ]
  },
  {
   "cell_type": "code",
   "execution_count": null,
   "metadata": {},
   "outputs": [
    {
     "name": "stdout",
     "output_type": "stream",
     "text": [
      "{'name': 'Vishal', 'age': 45, 'address': 'India'}\n",
      "{'name': 'Vishal', 'age': 45, 'address': 'India'}\n"
     ]
    }
   ],
   "source": [
    "## shallow copy\n",
    "Student_copy = Student\n",
    "print(Student)\n",
    "print(Student_copy)\n"
   ]
  },
  {
   "cell_type": "code",
   "execution_count": null,
   "metadata": {},
   "outputs": [
    {
     "name": "stdout",
     "output_type": "stream",
     "text": [
      "{'name': 'paras', 'age': 45, 'address': 'India'}\n",
      "{'name': 'paras', 'age': 45, 'address': 'India'}\n"
     ]
    }
   ],
   "source": [
    "Student[\"name\"] = \"paras\"\n",
    "print(Student)\n",
    "print(Student_copy)\n"
   ]
  },
  {
   "cell_type": "code",
   "execution_count": null,
   "metadata": {},
   "outputs": [
    {
     "name": "stdout",
     "output_type": "stream",
     "text": [
      "{'name': 'paras', 'age': 45, 'address': 'India'}\n",
      "{'name': 'paras', 'age': 45, 'address': 'India'}\n"
     ]
    }
   ],
   "source": [
    "student_copy1 = Student.copy()\n",
    "print(student_copy1)\n",
    "print(Student)\n"
   ]
  },
  {
   "cell_type": "code",
   "execution_count": null,
   "metadata": {},
   "outputs": [
    {
     "name": "stdout",
     "output_type": "stream",
     "text": [
      "{'name': 'paras', 'age': 45, 'address': 'India'}\n",
      "{'name': 'Krish', 'age': 45, 'address': 'India'}\n"
     ]
    }
   ],
   "source": [
    "Student[\"name\"] = \"Krish\"\n",
    "print(student_copy1)\n",
    "print(Student)\n"
   ]
  },
  {
   "cell_type": "code",
   "execution_count": 16,
   "metadata": {},
   "outputs": [
    {
     "name": "stdout",
     "output_type": "stream",
     "text": [
      "name\n",
      "age\n",
      "address\n"
     ]
    }
   ],
   "source": [
    "## Iterating Over Dictionary\n",
    "## you can use loops to iterate over dictionatries, keys, values or items\n",
    "## iterating over keys\n",
    "for keys in Student.keys():\n",
    "    print(keys)\n"
   ]
  },
  {
   "cell_type": "code",
   "execution_count": null,
   "metadata": {},
   "outputs": [
    {
     "name": "stdout",
     "output_type": "stream",
     "text": [
      "Krish\n",
      "45\n",
      "India\n"
     ]
    }
   ],
   "source": [
    "#iterate over values\n",
    "\n",
    "for value in Student.values():\n",
    "    print(value)\n"
   ]
  },
  {
   "cell_type": "code",
   "execution_count": null,
   "metadata": {},
   "outputs": [
    {
     "name": "stdout",
     "output_type": "stream",
     "text": [
      "{'student1': {'name': 'Vishal', 'age': 32}, 'student2': {'name': 'paras', 'age': 34}}\n"
     ]
    }
   ],
   "source": [
    "## Nested Dictionaries \n",
    "\n",
    "Students = {\n",
    "    \"student1\":{\"name\":\"Vishal\",\"age\":32},\n",
    "    \"student2\":{\"name\":\"paras\",\"age\":34}\n",
    "}\n",
    "print(Students)\n"
   ]
  },
  {
   "cell_type": "code",
   "execution_count": null,
   "metadata": {},
   "outputs": [
    {
     "name": "stdout",
     "output_type": "stream",
     "text": [
      "student1:{'name': 'Vishal', 'age': 32}\n",
      "name:Vishal\n",
      "age:32\n",
      "student2:{'name': 'paras', 'age': 34}\n",
      "name:paras\n",
      "age:34\n"
     ]
    }
   ],
   "source": [
    "## iterating over nested dictionaries \n",
    "for  student_id, student_info in Students.items():\n",
    "     print(f\"{student_id}:{student_info}\")\n",
    "     for key,value in student_info.items():\n",
    "       print(f\"{key}:{value}\")\n"
   ]
  },
  {
   "cell_type": "code",
   "execution_count": null,
   "metadata": {},
   "outputs": [
    {
     "name": "stdout",
     "output_type": "stream",
     "text": [
      "{0: 0, 1: 1, 2: 4, 3: 9, 4: 16}\n"
     ]
    }
   ],
   "source": [
    "## dictionary comphrehension\n",
    "\n",
    "squares = {x:x**2 for x in range(5)}\n",
    "print(squares)\n"
   ]
  },
  {
   "cell_type": "code",
   "execution_count": null,
   "metadata": {},
   "outputs": [
    {
     "name": "stdout",
     "output_type": "stream",
     "text": [
      "{0: 0, 2: 4, 4: 16, 6: 36, 8: 64}\n"
     ]
    }
   ],
   "source": [
    "## condition dictionary comprehension\n",
    "\n",
    "evens = {x:x**2 for x in range(10) if x%2==0}\n",
    "print(evens)\n"
   ]
  },
  {
   "cell_type": "code",
   "execution_count": null,
   "metadata": {},
   "outputs": [
    {
     "name": "stdout",
     "output_type": "stream",
     "text": [
      "{1: 1, 2: 2, 3: 2, 4: 4}\n"
     ]
    }
   ],
   "source": [
    "## practical examples\n",
    "\n",
    "## use a dictionary to count the frequency of elements in list \n",
    "\n",
    "numbers = [1,2,2,3,3,4,4,4,4]\n",
    "\n",
    "frequency = {}\n",
    "\n",
    "\n",
    "for number in numbers:\n",
    "    if number in frequency:\n",
    "        frequency[number]+=1\n",
    "    else:\n",
    "        frequency[number] = 1\n",
    "print(frequency)\n"
   ]
  },
  {
   "cell_type": "code",
   "execution_count": null,
   "metadata": {},
   "outputs": [
    {
     "name": "stdout",
     "output_type": "stream",
     "text": [
      "{'a': 1, 'b': 3, 'c': 4}\n"
     ]
    }
   ],
   "source": [
    "## merge 2 dictionaries into one \n",
    "\n",
    "dict1 ={\"a\":1,\"b\":2}\n",
    "dict2 ={\"b\":3,\"c\":4}\n",
    "merged_dict={**dict1,**dict2}\n",
    "print(merged_dict)\n"
   ]
  },
  {
   "cell_type": "code",
   "execution_count": null,
   "metadata": {},
   "outputs": [],
   "source": []
  }
 ],
 "metadata": {
  "kernelspec": {
   "display_name": "Python 3",
   "language": "python",
   "name": "python3"
  },
  "language_info": {
   "codemirror_mode": {
    "name": "ipython",
    "version": 3
   },
   "file_extension": ".py",
   "mimetype": "text/x-python",
   "name": "python",
   "nbconvert_exporter": "python",
   "pygments_lexer": "ipython3",
   "version": "3.12.4"
  }
 },
 "nbformat": 4,
 "nbformat_minor": 2
}
