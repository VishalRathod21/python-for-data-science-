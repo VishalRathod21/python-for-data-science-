{
 "cells": [
  {
   "cell_type": "code",
   "execution_count": 4,
   "metadata": {},
   "outputs": [
    {
     "name": "stdout",
     "output_type": "stream",
     "text": [
      "Addition result is:  30\n",
      "Subtraction result is:  -10\n",
      "Multiplication result is:  200\n",
      "Division result is:  0.5\n",
      "Modulus result is:  10\n",
      "Exponential result is:  100000000000000000000\n",
      "Floor division result is:  0\n"
     ]
    }
   ],
   "source": [
    "#Arithmetic operation\n",
    "a = 10 \n",
    "b = 20\n",
    "add_result = a + b\n",
    "sub_result = a - b\n",
    "mul_result = a * b\n",
    "div_result = a / b\n",
    "mod_result = a % b\n",
    "exp_result = a ** b\n",
    "floor_result = a // b\n",
    "print(\"Addition result is: \",add_result)\n",
    "print(\"Subtraction result is: \",sub_result)\n",
    "print(\"Multiplication result is: \",mul_result)\n",
    "print(\"Division result is: \",div_result)\n",
    "print(\"Modulus result is: \",mod_result)\n",
    "print(\"Exponential result is: \",exp_result)\n",
    "print(\"Floor division result is: \",floor_result)\n"
   ]
  },
  {
   "cell_type": "code",
   "execution_count": 5,
   "metadata": {},
   "outputs": [
    {
     "name": "stdout",
     "output_type": "stream",
     "text": [
      "a is equal to b:  False\n",
      "a is not equal to b:  True\n",
      "a is greater than b:  False\n",
      "a is less than b:  True\n",
      "a is greater than or equal to b:  False\n",
      "a is less than or equal to b:  True\n"
     ]
    }
   ],
   "source": [
    "## Comaprison operation\n",
    "a = 10\n",
    "b = 20\n",
    "print(\"a is equal to b: \",a == b)\n",
    "print(\"a is not equal to b: \",a != b)\n",
    "print(\"a is greater than b: \",a > b)\n",
    "print(\"a is less than b: \",a < b)\n",
    "print(\"a is greater than or equal to b: \",a >= b)\n",
    "print(\"a is less than or equal to b: \",a <= b)\n"
   ]
  },
  {
   "cell_type": "code",
   "execution_count": null,
   "metadata": {},
   "outputs": [
    {
     "name": "stdout",
     "output_type": "stream",
     "text": [
      "a and b is:  False\n",
      "a or b is:  True\n",
      "not a is:  False\n"
     ]
    }
   ],
   "source": [
    "#Logical Operators\n",
    "a = True\n",
    "b = False\n",
    "print(\"a and b is: \",a and b)\n",
    "print(\"a or b is: \",a or b)\n",
    "print(\"not a is: \",not a)\n"
   ]
  },
  {
   "cell_type": "code",
   "execution_count": null,
   "metadata": {},
   "outputs": [
    {
     "name": "stdout",
     "output_type": "stream",
     "text": [
      "Bitwise AND is:  0\n",
      "Bitwise OR is:  14\n",
      "Bitwise XOR is:  14\n",
      "Bitwise NOT is:  -11\n",
      "Bitwise right shift is:  2\n",
      "Bitwise left shift is:  40\n"
     ]
    }
   ],
   "source": [
    "## Bitwise operator \n",
    "a = 10\n",
    "b = 4\n",
    "print(\"Bitwise AND is: \",a & b)\n",
    "print(\"Bitwise OR is: \",a | b)\n",
    "print(\"Bitwise XOR is: \",a ^ b)\n",
    "print(\"Bitwise NOT is: \",~a)\n",
    "print(\"Bitwise right shift is: \",a >> 2)\n",
    "print(\"Bitwise left shift is: \",a << 2)\n"
   ]
  },
  {
   "cell_type": "code",
   "execution_count": null,
   "metadata": {},
   "outputs": [
    {
     "name": "stdout",
     "output_type": "stream",
     "text": [
      "Value of c is:  0.0\n"
     ]
    }
   ],
   "source": []
  },
  {
   "cell_type": "code",
   "execution_count": null,
   "metadata": {},
   "outputs": [],
   "source": []
  }
 ],
 "metadata": {
  "kernelspec": {
   "display_name": "Python 3",
   "language": "python",
   "name": "python3"
  },
  "language_info": {
   "codemirror_mode": {
    "name": "ipython",
    "version": 3
   },
   "file_extension": ".py",
   "mimetype": "text/x-python",
   "name": "python",
   "nbconvert_exporter": "python",
   "pygments_lexer": "ipython3",
   "version": "3.12.4"
  }
 },
 "nbformat": 4,
 "nbformat_minor": 2
}
