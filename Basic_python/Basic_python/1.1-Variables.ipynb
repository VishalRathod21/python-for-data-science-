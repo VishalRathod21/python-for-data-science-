{
 "cells": [
  {
   "cell_type": "code",
   "execution_count": null,
   "metadata": {},
   "outputs": [],
   "source": [
    "a = 100\n"
   ]
  },
  {
   "cell_type": "code",
   "execution_count": 1,
   "metadata": {},
   "outputs": [
    {
     "name": "stdout",
     "output_type": "stream",
     "text": [
      "age : 32\n",
      "height : 6.1\n",
      "name : John\n"
     ]
    }
   ],
   "source": [
    "## Declaring And Assigning Variables \n",
    "\n",
    "age = 32 \n",
    "height = 6.1\n",
    "name = \"John\"\n",
    "is_student = True\n",
    "\n",
    "## Printing Variables\n",
    "\n",
    "print(\"age :\", age)\n",
    "print(\"height :\", height)\n",
    "print(\"name :\", name)\n"
   ]
  },
  {
   "cell_type": "code",
   "execution_count": 2,
   "metadata": {},
   "outputs": [],
   "source": [
    "#Naming Conventions\n",
    "#1. Variable names must start with a letter or an underscore\n",
    "#2. The remainder of your variable name may consist of letters, numbers and underscores.\n",
    "#3. Names are case sensitive.\n",
    "#4. Avoid using Python built-in keywords like list and str\n",
    "#5. Avoid using special symbols like !, @, #, $, % etc.\n",
    "\n",
    "#Valid Variable Names\n",
    "\n",
    "first_name = \"Krish\"\n",
    "last_name = \"Naik\"\n"
   ]
  },
  {
   "cell_type": "code",
   "execution_count": null,
   "metadata": {},
   "outputs": [],
   "source": [
    "#Invalid Variable Names\n",
    "\n",
    "#1st_name = \"Krish\"\n",
    "#last-name = \"Naik\"\n",
    "#class = \"Python\"\n",
    "#global = \"School\"\n"
   ]
  },
  {
   "cell_type": "code",
   "execution_count": null,
   "metadata": {},
   "outputs": [
    {
     "name": "stdout",
     "output_type": "stream",
     "text": [
      "Krish\n",
      "Naik\n"
     ]
    }
   ],
   "source": [
    "##Case Sensitivity\n",
    "Name = \"Krish\"\n",
    "name = \"Naik\"\n",
    "\n",
    "print(Name)\n",
    "print(name)\n"
   ]
  },
  {
   "cell_type": "code",
   "execution_count": 7,
   "metadata": {},
   "outputs": [],
   "source": [
    "## understanding the variable types\n",
    "## python is dynamically typed, type of variable is decided at runtime\n",
    "\n",
    "age = 25 #int \n",
    "height = 6.1 #float\n",
    "name = \"John\" #string\n",
    "is_student = True #boolean\n"
   ]
  },
  {
   "cell_type": "code",
   "execution_count": null,
   "metadata": {},
   "outputs": [
    {
     "data": {
      "text/plain": [
       "float"
      ]
     },
     "execution_count": 8,
     "metadata": {},
     "output_type": "execute_result"
    }
   ],
   "source": [
    "## Type Checking and conversion\n",
    "type(height)\n"
   ]
  },
  {
   "cell_type": "code",
   "execution_count": null,
   "metadata": {},
   "outputs": [
    {
     "name": "stdout",
     "output_type": "stream",
     "text": [
      "<class 'int'>\n"
     ]
    }
   ],
   "source": [
    "age = 25\n",
    "print(type(age))\n"
   ]
  },
  {
   "cell_type": "code",
   "execution_count": null,
   "metadata": {},
   "outputs": [
    {
     "name": "stdout",
     "output_type": "stream",
     "text": [
      "25\n",
      "<class 'str'>\n"
     ]
    }
   ],
   "source": [
    "# Type conversion\n",
    "age = str(age)\n",
    "print(age)\n",
    "print(type(age))\n"
   ]
  },
  {
   "cell_type": "code",
   "execution_count": null,
   "metadata": {},
   "outputs": [
    {
     "name": "stdout",
     "output_type": "stream",
     "text": [
      "10 <class 'int'>\n"
     ]
    }
   ],
   "source": [
    "#Dynamic Typing \n",
    "var =10\n",
    "print(var,type(var))\n"
   ]
  },
  {
   "cell_type": "code",
   "execution_count": null,
   "metadata": {},
   "outputs": [
    {
     "name": "stdout",
     "output_type": "stream",
     "text": [
      "10\n"
     ]
    }
   ],
   "source": [
    "#input \n",
    "\n",
    "age = input(\"Enter your age : \")\n",
    "print(age)\n"
   ]
  },
  {
   "cell_type": "code",
   "execution_count": 3,
   "metadata": {},
   "outputs": [
    {
     "name": "stdout",
     "output_type": "stream",
     "text": [
      "Sum :  101\n",
      "Difference :  -11\n",
      "Product :  2520\n",
      "Quotient :  0.8035714285714286\n"
     ]
    }
   ],
   "source": [
    "### simple calculator\n",
    "num1 = int(input(\"Enter first number : \"))\n",
    "num2 = int(input(\"Enter second number : \"))\n",
    "\n",
    "sum = num1 + num2\n",
    "difference = num1-num2\n",
    "product = num1*num2\n",
    "quotient = num1/num2\n",
    "\n",
    "print(\"Sum : \", sum)   \n",
    "print(\"Difference : \", difference)\n",
    "print(\"Product : \", product)\n",
    "print(\"Quotient : \", quotient)\n"
   ]
  },
  {
   "cell_type": "code",
   "execution_count": null,
   "metadata": {},
   "outputs": [],
   "source": []
  }
 ],
 "metadata": {
  "kernelspec": {
   "display_name": "Python 3",
   "language": "python",
   "name": "python3"
  },
  "language_info": {
   "codemirror_mode": {
    "name": "ipython",
    "version": 3
   },
   "file_extension": ".py",
   "mimetype": "text/x-python",
   "name": "python",
   "nbconvert_exporter": "python",
   "pygments_lexer": "ipython3",
   "version": "3.12.4"
  }
 },
 "nbformat": 4,
 "nbformat_minor": 2
}
