{
 "cells": [
  {
   "cell_type": "code",
   "execution_count": 3,
   "metadata": {},
   "outputs": [
    {
     "name": "stdout",
     "output_type": "stream",
     "text": [
      "woof!\n",
      "meow!\n"
     ]
    }
   ],
   "source": [
    "## base class \n",
    "class Animal:\n",
    "    def speak(self):\n",
    "        return \"sound of the animal\"\n",
    "\n",
    "## derived class\n",
    "class Dog(Animal):\n",
    "    def speak(self):\n",
    "        return \"woof!\"\n",
    "    \n",
    "##derived class\n",
    "class Cat(Animal):\n",
    "    def speak(self):\n",
    "        return \"meow!\"\n",
    "\n",
    "def animal_speak(Animal):\n",
    "    print(Animal.speak())\n",
    "dog = Dog()\n",
    "cat = Cat()\n",
    "print(dog.speak())\n",
    "print(cat.speak())\n"
   ]
  },
  {
   "cell_type": "code",
   "execution_count": null,
   "metadata": {},
   "outputs": [
    {
     "name": "stdout",
     "output_type": "stream",
     "text": [
      "the area is 200\n",
      "the area is 314.0\n"
     ]
    }
   ],
   "source": [
    "## polymorphism with function and methods \n",
    "## base class \n",
    "class shape:\n",
    "    def area(self):\n",
    "        return \"The area of the figure\"\n",
    "\n",
    "## derived class 1\n",
    "class Rectangle(shape):\n",
    "    def __init__(self, width, height):\n",
    "        self.width = width\n",
    "        self.height = height\n",
    "    \n",
    "    def area(self):\n",
    "        return self.width * self.height\n",
    "\n",
    "## Derived class 2\n",
    "class circle(shape):\n",
    "    def __init__(self, radius):\n",
    "        self.radius = radius\n",
    "    \n",
    "    def area(self):\n",
    "        return 3.14 * self.radius * self.radius\n",
    "    \n",
    "## function that demonstrates polymorphism\n",
    "def print_area(shape):\n",
    "    print(f\"the area is {shape.area()}\")\n",
    "\n",
    "rectangle = Rectangle(10, 20)\n",
    "circle = circle(10)\n",
    "print_area(rectangle)\n",
    "print_area(circle)\n"
   ]
  },
  {
   "cell_type": "code",
   "execution_count": null,
   "metadata": {},
   "outputs": [
    {
     "name": "stdout",
     "output_type": "stream",
     "text": [
      "Car is starting\n",
      "Bike is starting\n"
     ]
    }
   ],
   "source": [
    "### polymorphism with abstract base class\n",
    "from abc import ABC, abstractmethod\n",
    "\n",
    "## define an abstract base class\n",
    "class vehicle(ABC):\n",
    "    @abstractmethod\n",
    "    def start(self):\n",
    "        pass\n",
    "##Derived class 1\n",
    "class car(vehicle):\n",
    "    def start(self):\n",
    "        return \"Car is starting\"\n",
    "    \n",
    "##Derived class 2\n",
    "class bike(vehicle):\n",
    "    def start(self):\n",
    "        return \"Bike is starting\"\n",
    "    \n",
    "\n",
    "car = car()\n",
    "bike = bike()\n",
    "\n",
    "print(car.start())\n",
    "print(bike.start())\n"
   ]
  },
  {
   "cell_type": "code",
   "execution_count": null,
   "metadata": {},
   "outputs": [],
   "source": []
  }
 ],
 "metadata": {
  "kernelspec": {
   "display_name": "Python 3",
   "language": "python",
   "name": "python3"
  },
  "language_info": {
   "codemirror_mode": {
    "name": "ipython",
    "version": 3
   },
   "file_extension": ".py",
   "mimetype": "text/x-python",
   "name": "python",
   "nbconvert_exporter": "python",
   "pygments_lexer": "ipython3",
   "version": "3.12.4"
  }
 },
 "nbformat": 4,
 "nbformat_minor": 2
}
