{
 "cells": [
  {
   "cell_type": "code",
   "execution_count": 1,
   "metadata": {},
   "outputs": [
    {
     "name": "stdout",
     "output_type": "stream",
     "text": [
      "[[1 2 3 4 5]\n",
      " [2 3 4 5 6]]\n",
      "<class 'numpy.ndarray'>\n",
      "(2, 5)\n"
     ]
    }
   ],
   "source": [
    "import numpy as np \n",
    "\n",
    "##create array using numpy\n",
    "## create a 1D array\n",
    "\n",
    "arr1=np.array([[1,2,3,4,5],[2,3,4,5,6]])\n",
    "print(arr1)\n",
    "print(type(arr1))\n",
    "print(arr1.shape)\n"
   ]
  },
  {
   "cell_type": "code",
   "execution_count": 2,
   "metadata": {},
   "outputs": [
    {
     "data": {
      "text/plain": [
       "array([[1, 2, 3, 4, 5]])"
      ]
     },
     "execution_count": 2,
     "metadata": {},
     "output_type": "execute_result"
    }
   ],
   "source": [
    "arr2 = np.array([1,2,3,4,5])\n",
    "arr2.reshape(1,5)   ##1 row 5 columns\n"
   ]
  },
  {
   "cell_type": "code",
   "execution_count": 3,
   "metadata": {},
   "outputs": [
    {
     "data": {
      "text/plain": [
       "(1, 5)"
      ]
     },
     "execution_count": 3,
     "metadata": {},
     "output_type": "execute_result"
    }
   ],
   "source": [
    "arr2 = np.array([[1,2,3,4,5]])\n",
    "arr2.shape\n"
   ]
  },
  {
   "cell_type": "code",
   "execution_count": 4,
   "metadata": {},
   "outputs": [
    {
     "data": {
      "text/plain": [
       "array([[0],\n",
       "       [2],\n",
       "       [4],\n",
       "       [6],\n",
       "       [8]])"
      ]
     },
     "execution_count": 4,
     "metadata": {},
     "output_type": "execute_result"
    }
   ],
   "source": [
    "np.arange(0,10,2).reshape(5,1)  ##start, stop, step\n"
   ]
  },
  {
   "cell_type": "code",
   "execution_count": 5,
   "metadata": {},
   "outputs": [
    {
     "data": {
      "text/plain": [
       "array([[1., 1., 1., 1.],\n",
       "       [1., 1., 1., 1.],\n",
       "       [1., 1., 1., 1.]])"
      ]
     },
     "execution_count": 5,
     "metadata": {},
     "output_type": "execute_result"
    }
   ],
   "source": [
    "np.ones((3,4))\n"
   ]
  },
  {
   "cell_type": "code",
   "execution_count": 6,
   "metadata": {},
   "outputs": [
    {
     "data": {
      "text/plain": [
       "array([[1., 0., 0.],\n",
       "       [0., 1., 0.],\n",
       "       [0., 0., 1.]])"
      ]
     },
     "execution_count": 6,
     "metadata": {},
     "output_type": "execute_result"
    }
   ],
   "source": [
    "## identity matrix\n",
    "np.eye(3)\n"
   ]
  },
  {
   "cell_type": "code",
   "execution_count": 7,
   "metadata": {},
   "outputs": [
    {
     "name": "stdout",
     "output_type": "stream",
     "text": [
      "Array is:  [[ 1  2  3  4]\n",
      " [ 5  6  7  8]\n",
      " [ 9 10 11 12]]\n",
      "Shape of array is:  (3, 4)\n",
      "Data type of array is:  int32\n",
      "Size of array is:  12\n",
      "Number of dimensions of array is:  2\n",
      "Number of bytes of each element of array is:  4\n",
      "Total number of bytes of array is:  48\n"
     ]
    }
   ],
   "source": [
    "## attributes of numpy array\n",
    "arr = np.array([[1,2,3,4],[5,6,7,8],[9,10,11,12]])\n",
    "\n",
    "print(\"Array is: \", arr)\n",
    "print(\"Shape of array is: \", arr.shape) \n",
    "print(\"Data type of array is: \", arr.dtype)\n",
    "print(\"Size of array is: \", arr.size)\n",
    "print(\"Number of dimensions of array is: \", arr.ndim)\n",
    "print(\"Number of bytes of each element of array is: \", arr.itemsize)\n",
    "print(\"Total number of bytes of array is: \", arr.nbytes)\n"
   ]
  },
  {
   "cell_type": "code",
   "execution_count": 8,
   "metadata": {},
   "outputs": [
    {
     "name": "stdout",
     "output_type": "stream",
     "text": [
      "[ 7  9 11 13 15]\n",
      "[-5 -5 -5 -5 -5]\n",
      "[ 6 14 24 36 50]\n"
     ]
    }
   ],
   "source": [
    "### Numpy vectorized operations\n",
    "arr1 = np.array([1,2,3,4,5])\n",
    "arr2 = np.array([6,7,8,9,10])\n",
    "\n",
    "### element wise addition\n",
    "print(arr1 + arr2)\n",
    "\n",
    "### element wise subtraction\n",
    "print(arr1 - arr2)\n",
    "\n",
    "### element wise multiplication\n",
    "print(arr1 * arr2)\n",
    "\n"
   ]
  },
  {
   "cell_type": "code",
   "execution_count": 9,
   "metadata": {},
   "outputs": [
    {
     "name": "stdout",
     "output_type": "stream",
     "text": [
      "square root of array is:  [1.         1.41421356 1.73205081 2.         2.23606798]\n",
      "exponential of array is:  [  2.71828183   7.3890561   20.08553692  54.59815003 148.4131591 ]\n",
      "sine of array is:  [ 0.84147098  0.90929743  0.14112001 -0.7568025  -0.95892427]\n",
      "cosine of array is:  [ 0.54030231 -0.41614684 -0.9899925  -0.65364362  0.28366219]\n",
      "log of array is:  [0.         0.69314718 1.09861229 1.38629436 1.60943791]\n",
      "sum of array is:  15\n",
      "mean of array is:  3.0\n",
      "standard deviation of array is:  1.4142135623730951\n",
      "minimum of array is:  1\n",
      "maximum of array is:  5\n",
      "index of minimum element of array is:  0\n",
      "index of maximum element of array is:  4\n",
      "index of sorted array is:  [0 1 2 3 4]\n",
      "unique elements of array is:  [1 2 3 4 5]\n",
      "count of unique elements of array is:  (array([1, 2, 3, 4, 5]), array([1, 1, 1, 1, 1], dtype=int64))\n"
     ]
    }
   ],
   "source": [
    "## universal functions\n",
    "arr = np.array([1,2,3,4,5])\n",
    "\n",
    "print(\"square root of array is: \", np.sqrt(arr))\n",
    "print(\"exponential of array is: \", np.exp(arr))\n",
    "print(\"sine of array is: \", np.sin(arr))\n",
    "print(\"cosine of array is: \", np.cos(arr))\n",
    "print(\"log of array is: \", np.log(arr))\n",
    "print(\"sum of array is: \", np.sum(arr))\n",
    "print(\"mean of array is: \", np.mean(arr))\n",
    "print(\"standard deviation of array is: \", np.std(arr))\n",
    "print(\"minimum of array is: \", np.min(arr))\n",
    "print(\"maximum of array is: \", np.max(arr))\n",
    "print(\"index of minimum element of array is: \", np.argmin(arr))\n",
    "print(\"index of maximum element of array is: \", np.argmax(arr))\n",
    "print(\"index of sorted array is: \", np.argsort(arr))\n",
    "print(\"unique elements of array is: \", np.unique(arr))\n",
    "print(\"count of unique elements of array is: \", np.unique(arr, return_counts=True))\n"
   ]
  },
  {
   "cell_type": "code",
   "execution_count": 10,
   "metadata": {},
   "outputs": [
    {
     "name": "stdout",
     "output_type": "stream",
     "text": [
      "Array is: \n",
      " [[ 1  2  3  4  5]\n",
      " [ 6  7  8  9 10]]\n",
      "Element at 0th row and 0th column is:  1\n",
      "Element at 1st row and 1st column is:  7\n"
     ]
    }
   ],
   "source": [
    "## array slicing and indexing \n",
    "arr = np.array([[1,2,3,4,5],[6,7,8,9,10]])\n",
    "\n",
    "print(\"Array is: \\n\", arr)\n",
    "print(\"Element at 0th row and 0th column is: \", arr[0,0])\n",
    "print(\"Element at 1st row and 1st column is: \", arr[1,1])\n"
   ]
  },
  {
   "cell_type": "code",
   "execution_count": 11,
   "metadata": {},
   "outputs": [
    {
     "name": "stdout",
     "output_type": "stream",
     "text": [
      "[[7 8]]\n"
     ]
    }
   ],
   "source": [
    "print(arr[1:,1:3])\n"
   ]
  },
  {
   "cell_type": "code",
   "execution_count": 12,
   "metadata": {},
   "outputs": [
    {
     "name": "stdout",
     "output_type": "stream",
     "text": [
      "1\n",
      "[[ 3  4  5]\n",
      " [ 8  9 10]]\n"
     ]
    }
   ],
   "source": [
    "print(arr[0][0])\n",
    "print(arr[0:2,2:])\n"
   ]
  },
  {
   "cell_type": "code",
   "execution_count": 13,
   "metadata": {},
   "outputs": [
    {
     "name": "stdout",
     "output_type": "stream",
     "text": [
      "[[100   2   3   4   5]\n",
      " [  6   7   8   9  10]]\n"
     ]
    }
   ],
   "source": [
    "## modify array elements\n",
    "arr[0,0] = 100\n",
    "print(arr)\n"
   ]
  },
  {
   "cell_type": "code",
   "execution_count": 14,
   "metadata": {},
   "outputs": [
    {
     "name": "stdout",
     "output_type": "stream",
     "text": [
      "[[100   2   3   4   5]\n",
      " [100 100 100 100 100]]\n"
     ]
    }
   ],
   "source": [
    "arr[1:] = 100\n",
    "print(arr)\n"
   ]
  },
  {
   "cell_type": "code",
   "execution_count": 15,
   "metadata": {},
   "outputs": [
    {
     "name": "stdout",
     "output_type": "stream",
     "text": [
      "Mean:  5.5\n",
      "Median:  5.5\n",
      "Standard Deviation:  2.8722813232690143\n",
      "Variance:  8.25\n"
     ]
    }
   ],
   "source": [
    "data = np.array([1,2,3,4,5,6,7,8,9,10])\n",
    "\n",
    "#Mean\n",
    "mean = np.mean(data)\n",
    "print(\"Mean: \", mean)\n",
    "\n",
    "#Median\n",
    "median = np.median(data)\n",
    "print(\"Median: \", median)\n",
    "\n",
    "#Standard Deviation\n",
    "std_dev = np.std(data)\n",
    "print(\"Standard Deviation: \", std_dev)\n",
    "\n",
    "#Variance\n",
    "variance = np.var(data)\n",
    "print(\"Variance: \", variance)\n"
   ]
  },
  {
   "cell_type": "code",
   "execution_count": 16,
   "metadata": {},
   "outputs": [
    {
     "name": "stdout",
     "output_type": "stream",
     "text": [
      "[-1.5666989  -1.21854359 -0.87038828 -0.52223297 -0.17407766  0.17407766\n",
      "  0.52223297  0.87038828  1.21854359  1.5666989 ]\n"
     ]
    }
   ],
   "source": [
    "### statistical concepts -- normalizations\n",
    "\n",
    "data = np.array([1,2,3,4,5,6,7,8,9,10])\n",
    "\n",
    "## calculate mean\n",
    "mean = np.mean(data)\n",
    "std_dev = np.std(data)\n",
    "\n",
    "## normalize data\n",
    "normalized_data = (data - mean)/std_dev\n",
    "print(normalized_data)\n"
   ]
  },
  {
   "cell_type": "code",
   "execution_count": 17,
   "metadata": {},
   "outputs": [
    {
     "data": {
      "text/plain": [
       "array([6, 7, 8])"
      ]
     },
     "execution_count": 17,
     "metadata": {},
     "output_type": "execute_result"
    }
   ],
   "source": [
    "### logical operations\n",
    "data = np.array([1,2,3,4,5,6,7,8,9,10])\n",
    "\n",
    "data[(data > 5) & (data <= 8)]\n"
   ]
  },
  {
   "cell_type": "code",
   "execution_count": null,
   "metadata": {},
   "outputs": [],
   "source": []
  }
 ],
 "metadata": {
  "kernelspec": {
   "display_name": "Python 3",
   "language": "python",
   "name": "python3"
  },
  "language_info": {
   "codemirror_mode": {
    "name": "ipython",
    "version": 3
   },
   "file_extension": ".py",
   "mimetype": "text/x-python",
   "name": "python",
   "nbconvert_exporter": "python",
   "pygments_lexer": "ipython3",
   "version": "3.12.4"
  }
 },
 "nbformat": 4,
 "nbformat_minor": 2
}
