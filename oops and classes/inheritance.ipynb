{
 "cells": [
  {
   "cell_type": "code",
   "execution_count": 2,
   "metadata": {},
   "outputs": [
    {
     "name": "stdout",
     "output_type": "stream",
     "text": [
      "True\n"
     ]
    }
   ],
   "source": [
    "# Inheritance \n",
    "## Parent class\n",
    "\n",
    "class Car:\n",
    "    def __init__(self,windows,doors,enginetype):\n",
    "        self.windows = windows\n",
    "        self.doors = doors\n",
    "        self.enginetype = enginetype\n",
    "    def drive(self):\n",
    "        print(\"The person drives the car\")\n",
    "    \n",
    "## Child class\n",
    "class Audi(Car):\n",
    "    def __init__(self,windows,doors,enginetype,enableai):\n",
    "        super().__init__(windows,doors,enginetype)\n",
    "        self.enableai = enableai\n",
    "    def selfdriving(self):\n",
    "        print(\"Audi supports self driving\")\n",
    "    \n",
    "audiQ7 = Audi(5,5,'Diesel',True)\n",
    "print(audiQ7.enableai)\n"
   ]
  },
  {
   "cell_type": "code",
   "execution_count": 6,
   "metadata": {},
   "outputs": [
    {
     "name": "stdout",
     "output_type": "stream",
     "text": [
      "The person drives the car\n"
     ]
    }
   ],
   "source": [
    "car1 = Car(4,5,'Diesel')\n",
    "car1.drive()\n",
    " "
   ]
  },
  {
   "cell_type": "code",
   "execution_count": 13,
   "metadata": {},
   "outputs": [],
   "source": [
    "class Tesla(Car):\n",
    "    def __init__(self,windows,doors,enginetype,is_selfdriving):\n",
    "        super().__init__(windows,doors,enginetype)\n",
    "        self.is_selfdriving = is_selfdriving\n",
    "\n",
    "    def selfdriving(self):\n",
    "        print(f\"Tesla supports self driving : {self.is_selfdriving}\")"
   ]
  },
  {
   "cell_type": "code",
   "execution_count": 15,
   "metadata": {},
   "outputs": [
    {
     "name": "stdout",
     "output_type": "stream",
     "text": [
      "Tesla supports self driving : True\n"
     ]
    }
   ],
   "source": [
    "tesla1 = Tesla(4,4,'Electric',True)\n",
    "tesla1.selfdriving()\n"
   ]
  },
  {
   "cell_type": "code",
   "execution_count": 16,
   "metadata": {},
   "outputs": [
    {
     "name": "stdout",
     "output_type": "stream",
     "text": [
      "The person drives the car\n"
     ]
    }
   ],
   "source": [
    "tesla1.drive()"
   ]
  },
  {
   "cell_type": "code",
   "execution_count": 18,
   "metadata": {},
   "outputs": [
    {
     "name": "stdout",
     "output_type": "stream",
     "text": [
      "Eat and drink\n",
      "Work\n",
      "Name : John, Age : 40, Emp no : 1001, Emp sal : 10000\n"
     ]
    }
   ],
   "source": [
    "### multiple inheritance\n",
    "## when a class is derived from more than one base class\n",
    "\n",
    "class Person:\n",
    "    def __init__(self,name,age):\n",
    "        self.name = name\n",
    "        self.age = age\n",
    "    def eatndrink(self):\n",
    "        print(\"Eat and drink\")\n",
    "    \n",
    "class Employee:\n",
    "    def __init__(self,eno,esal):\n",
    "        self.eno = eno\n",
    "        self.esal = esal\n",
    "    def work(self):\n",
    "        print(\"Work\")\n",
    "\n",
    "class EmployeePerson(Person,Employee):\n",
    "    def __init__(self,name,age,eno,esal):\n",
    "        Person.__init__(self,name,age)\n",
    "        Employee.__init__(self,eno,esal)\n",
    "        \n",
    "    def info(self):\n",
    "        print(f\"Name : {self.name}, Age : {self.age}, Emp no : {self.eno}, Emp sal : {self.esal}\")\n",
    "    \n",
    "emp = EmployeePerson('John',40,1001,10000)\n",
    "emp.eatndrink()\n",
    "emp.work()\n",
    "emp.info()"
   ]
  },
  {
   "cell_type": "code",
   "execution_count": null,
   "metadata": {},
   "outputs": [],
   "source": []
  }
 ],
 "metadata": {
  "kernelspec": {
   "display_name": "Python 3",
   "language": "python",
   "name": "python3"
  },
  "language_info": {
   "codemirror_mode": {
    "name": "ipython",
    "version": 3
   },
   "file_extension": ".py",
   "mimetype": "text/x-python",
   "name": "python",
   "nbconvert_exporter": "python",
   "pygments_lexer": "ipython3",
   "version": "3.12.4"
  }
 },
 "nbformat": 4,
 "nbformat_minor": 2
}
